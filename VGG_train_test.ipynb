{
 "cells": [
  {
   "cell_type": "markdown",
   "metadata": {},
   "source": [
    "# VGG-16, 19 학습 및 성능 평가"
   ]
  },
  {
   "cell_type": "markdown",
   "metadata": {},
   "source": [
    "## 파라미터 설정"
   ]
  },
  {
   "cell_type": "markdown",
   "metadata": {},
   "source": [
    "- image size=(288,432,3)\n",
    "- optimizer=rmsprop\n",
    "- learning rate=2e-5\n",
    "- loss=binary_crossentropy\n",
    "- epoch=300\n",
    "- early_stop = EarlyStopping(patience=10, monitor='val_loss')\n",
    "- batchSize = 16"
   ]
  },
  {
   "cell_type": "code",
   "execution_count": 1,
   "metadata": {},
   "outputs": [
    {
     "data": {
      "text/plain": [
       "[name: \"/device:CPU:0\"\n",
       " device_type: \"CPU\"\n",
       " memory_limit: 268435456\n",
       " locality {\n",
       " }\n",
       " incarnation: 5108185996705020700,\n",
       " name: \"/device:XLA_CPU:0\"\n",
       " device_type: \"XLA_CPU\"\n",
       " memory_limit: 17179869184\n",
       " locality {\n",
       " }\n",
       " incarnation: 18267052719379345597\n",
       " physical_device_desc: \"device: XLA_CPU device\"]"
      ]
     },
     "execution_count": 1,
     "metadata": {},
     "output_type": "execute_result"
    }
   ],
   "source": [
    "# gpu 사용 가능한지 확인\n",
    "# 사용 가능하다면 device_type에 CPU, GPU 2개가 뜸\n",
    "\n",
    "from tensorflow.python.client import device_lib\n",
    "device_lib.list_local_devices()"
   ]
  },
  {
   "cell_type": "markdown",
   "metadata": {},
   "source": [
    "## 1. 라이브러리 임포트"
   ]
  },
  {
   "cell_type": "code",
   "execution_count": 12,
   "metadata": {},
   "outputs": [],
   "source": [
    "import os\n",
    "import numpy as np\n",
    "from glob import glob\n",
    "from PIL import Image\n",
    "import matplotlib.pyplot as plt\n",
    "\n",
    "\n",
    "from tensorflow.keras import Input\n",
    "from tensorflow.keras import layers, models\n",
    "from tensorflow.keras.models import Model, Sequential\n",
    "from tensorflow.keras.layers import Dense, Conv2D, MaxPooling2D , Flatten\n",
    "from tensorflow.keras.preprocessing.image import ImageDataGenerator\n",
    "from tensorflow.keras import optimizers, initializers, regularizers, metrics\n",
    "from tensorflow.keras.callbacks import ModelCheckpoint, EarlyStopping\n",
    "\n",
    "\n",
    "from sklearn.metrics import roc_curve, confusion_matrix\n",
    "from sklearn.metrics import roc_auc_score\n",
    "from sklearn.utils import class_weight"
   ]
  },
  {
   "cell_type": "markdown",
   "metadata": {},
   "source": [
    "## 2-1. 모델 레이어 쌓기: VGG-13"
   ]
  },
  {
   "cell_type": "code",
   "execution_count": 18,
   "metadata": {},
   "outputs": [
    {
     "name": "stdout",
     "output_type": "stream",
     "text": [
      "Model: \"functional_19\"\n",
      "_________________________________________________________________\n",
      "Layer (type)                 Output Shape              Param #   \n",
      "=================================================================\n",
      "input (InputLayer)           [(None, 288, 432, 3)]     0         \n",
      "_________________________________________________________________\n",
      "conv2d_115 (Conv2D)          (None, 288, 432, 64)      1792      \n",
      "_________________________________________________________________\n",
      "conv2d_116 (Conv2D)          (None, 288, 432, 64)      36928     \n",
      "_________________________________________________________________\n",
      "max_pooling2d_45 (MaxPooling (None, 144, 216, 64)      0         \n",
      "_________________________________________________________________\n",
      "conv2d_117 (Conv2D)          (None, 144, 216, 128)     73856     \n",
      "_________________________________________________________________\n",
      "conv2d_118 (Conv2D)          (None, 144, 216, 128)     147584    \n",
      "_________________________________________________________________\n",
      "max_pooling2d_46 (MaxPooling (None, 72, 108, 128)      0         \n",
      "_________________________________________________________________\n",
      "conv2d_119 (Conv2D)          (None, 72, 108, 256)      295168    \n",
      "_________________________________________________________________\n",
      "conv2d_120 (Conv2D)          (None, 72, 108, 256)      590080    \n",
      "_________________________________________________________________\n",
      "max_pooling2d_47 (MaxPooling (None, 36, 54, 256)       0         \n",
      "_________________________________________________________________\n",
      "conv2d_121 (Conv2D)          (None, 36, 54, 512)       1180160   \n",
      "_________________________________________________________________\n",
      "conv2d_122 (Conv2D)          (None, 36, 54, 512)       2359808   \n",
      "_________________________________________________________________\n",
      "max_pooling2d_48 (MaxPooling (None, 18, 27, 512)       0         \n",
      "_________________________________________________________________\n",
      "conv2d_123 (Conv2D)          (None, 18, 27, 512)       2359808   \n",
      "_________________________________________________________________\n",
      "conv2d_124 (Conv2D)          (None, 18, 27, 512)       2359808   \n",
      "_________________________________________________________________\n",
      "max_pooling2d_49 (MaxPooling (None, 9, 13, 512)        0         \n",
      "_________________________________________________________________\n",
      "flatten_9 (Flatten)          (None, 59904)             0         \n",
      "_________________________________________________________________\n",
      "dense_36 (Dense)             (None, 4096)              245370880 \n",
      "_________________________________________________________________\n",
      "dense_37 (Dense)             (None, 1024)              4195328   \n",
      "_________________________________________________________________\n",
      "dense_38 (Dense)             (None, 100)               102500    \n",
      "_________________________________________________________________\n",
      "dense_39 (Dense)             (None, 1)                 101       \n",
      "=================================================================\n",
      "Total params: 259,073,801\n",
      "Trainable params: 259,073,801\n",
      "Non-trainable params: 0\n",
      "_________________________________________________________________\n"
     ]
    }
   ],
   "source": [
    "input_tensor = Input(shape=(288,432,3), dtype='float32', name='input')\n",
    "# input_tensor = Input(shape=(244,244,3), dtype='float32', name='input')\n",
    " \n",
    "x = Conv2D(64, (3, 3), activation='relu', padding='same', kernel_initializer='he_normal', kernel_regularizer=regularizers.l2(0.01))(input_tensor)\n",
    "x = Conv2D(64, (3, 3), activation='relu', padding='same', kernel_initializer='he_normal', kernel_regularizer=regularizers.l2(0.01))(x)\n",
    "x = MaxPooling2D((2,2))(x)\n",
    " \n",
    "x = Conv2D(128, (3, 3), activation='relu', padding='same', kernel_initializer='he_normal', kernel_regularizer=regularizers.l2(0.01))(x)\n",
    "x = Conv2D(128, (3, 3), activation='relu', padding='same', kernel_initializer='he_normal', kernel_regularizer=regularizers.l2(0.01))(x)\n",
    "x = MaxPooling2D((2,2))(x)\n",
    " \n",
    "x = Conv2D(256, (3, 3), activation='relu', padding='same', kernel_initializer='he_normal', kernel_regularizer=regularizers.l2(0.01))(x)\n",
    "x = Conv2D(256, (3, 3), activation='relu', padding='same', kernel_initializer='he_normal', kernel_regularizer=regularizers.l2(0.01))(x)\n",
    "x = MaxPooling2D((2,2))(x)\n",
    " \n",
    "x = Conv2D(512, (3, 3), activation='relu', padding='same', kernel_initializer='he_normal', kernel_regularizer=regularizers.l2(0.01))(x)\n",
    "x = Conv2D(512, (3, 3), activation='relu', padding='same', kernel_initializer='he_normal', kernel_regularizer=regularizers.l2(0.01))(x)\n",
    "x = MaxPooling2D((2,2))(x)\n",
    " \n",
    "x = Conv2D(512, (3, 3), activation='relu', padding='same', kernel_initializer='he_normal', kernel_regularizer=regularizers.l2(0.01))(x)\n",
    "x = Conv2D(512, (3, 3), activation='relu', padding='same', kernel_initializer='he_normal', kernel_regularizer=regularizers.l2(0.01))(x)\n",
    "x = MaxPooling2D((2,2))(x)\n",
    " \n",
    "x = Flatten()(x)\n",
    "x = Dense(4096, kernel_initializer='he_normal')(x)\n",
    "x = Dense(1024, kernel_initializer='he_normal')(x)\n",
    "x = Dense(100, kernel_initializer='he_normal')(x)\n",
    "\n",
    "output_tensor = Dense(1, activation='sigmoid')(x)\n",
    " \n",
    "vgg13 = Model(input_tensor, output_tensor)\n",
    "vgg13.summary()\n"
   ]
  },
  {
   "cell_type": "markdown",
   "metadata": {},
   "source": [
    "## 2-2. 모델 레이어 쌓기: VGG-16"
   ]
  },
  {
   "cell_type": "code",
   "execution_count": 15,
   "metadata": {},
   "outputs": [
    {
     "name": "stdout",
     "output_type": "stream",
     "text": [
      "Model: \"functional_15\"\n",
      "_________________________________________________________________\n",
      "Layer (type)                 Output Shape              Param #   \n",
      "=================================================================\n",
      "input (InputLayer)           [(None, 244, 244, 3)]     0         \n",
      "_________________________________________________________________\n",
      "conv2d_86 (Conv2D)           (None, 244, 244, 64)      1792      \n",
      "_________________________________________________________________\n",
      "conv2d_87 (Conv2D)           (None, 244, 244, 64)      36928     \n",
      "_________________________________________________________________\n",
      "max_pooling2d_35 (MaxPooling (None, 122, 122, 64)      0         \n",
      "_________________________________________________________________\n",
      "conv2d_88 (Conv2D)           (None, 122, 122, 128)     73856     \n",
      "_________________________________________________________________\n",
      "conv2d_89 (Conv2D)           (None, 122, 122, 128)     147584    \n",
      "_________________________________________________________________\n",
      "max_pooling2d_36 (MaxPooling (None, 61, 61, 128)       0         \n",
      "_________________________________________________________________\n",
      "conv2d_90 (Conv2D)           (None, 61, 61, 256)       295168    \n",
      "_________________________________________________________________\n",
      "conv2d_91 (Conv2D)           (None, 61, 61, 256)       590080    \n",
      "_________________________________________________________________\n",
      "conv2d_92 (Conv2D)           (None, 61, 61, 256)       590080    \n",
      "_________________________________________________________________\n",
      "max_pooling2d_37 (MaxPooling (None, 30, 30, 256)       0         \n",
      "_________________________________________________________________\n",
      "conv2d_93 (Conv2D)           (None, 30, 30, 512)       1180160   \n",
      "_________________________________________________________________\n",
      "conv2d_94 (Conv2D)           (None, 30, 30, 512)       2359808   \n",
      "_________________________________________________________________\n",
      "conv2d_95 (Conv2D)           (None, 30, 30, 512)       2359808   \n",
      "_________________________________________________________________\n",
      "max_pooling2d_38 (MaxPooling (None, 15, 15, 512)       0         \n",
      "_________________________________________________________________\n",
      "conv2d_96 (Conv2D)           (None, 15, 15, 512)       2359808   \n",
      "_________________________________________________________________\n",
      "conv2d_97 (Conv2D)           (None, 15, 15, 512)       2359808   \n",
      "_________________________________________________________________\n",
      "conv2d_98 (Conv2D)           (None, 15, 15, 512)       2359808   \n",
      "_________________________________________________________________\n",
      "max_pooling2d_39 (MaxPooling (None, 7, 7, 512)         0         \n",
      "_________________________________________________________________\n",
      "flatten_7 (Flatten)          (None, 25088)             0         \n",
      "_________________________________________________________________\n",
      "dense_28 (Dense)             (None, 4096)              102764544 \n",
      "_________________________________________________________________\n",
      "dense_29 (Dense)             (None, 1024)              4195328   \n",
      "_________________________________________________________________\n",
      "dense_30 (Dense)             (None, 100)               102500    \n",
      "_________________________________________________________________\n",
      "dense_31 (Dense)             (None, 1)                 101       \n",
      "=================================================================\n",
      "Total params: 121,777,161\n",
      "Trainable params: 121,777,161\n",
      "Non-trainable params: 0\n",
      "_________________________________________________________________\n"
     ]
    }
   ],
   "source": [
    "input_tensor = Input(shape=(288,432,3), dtype='float32', name='input')\n",
    "# input_tensor = Input(shape=(244,244,3), dtype='float32', name='input')\n",
    " \n",
    "x = Conv2D(64, (3, 3), activation='relu', padding='same', kernel_initializer='he_normal', kernel_regularizer=regularizers.l2(0.01))(input_tensor)\n",
    "x = Conv2D(64, (3, 3), activation='relu', padding='same', kernel_initializer='he_normal', kernel_regularizer=regularizers.l2(0.01))(x)\n",
    "x = MaxPooling2D((2,2))(x)\n",
    " \n",
    "x = Conv2D(128, (3, 3), activation='relu', padding='same', kernel_initializer='he_normal', kernel_regularizer=regularizers.l2(0.01))(x)\n",
    "x = Conv2D(128, (3, 3), activation='relu', padding='same', kernel_initializer='he_normal', kernel_regularizer=regularizers.l2(0.01))(x)\n",
    "x = MaxPooling2D((2,2))(x)\n",
    " \n",
    "x = Conv2D(256, (3, 3), activation='relu', padding='same', kernel_initializer='he_normal', kernel_regularizer=regularizers.l2(0.01))(x)\n",
    "x = Conv2D(256, (3, 3), activation='relu', padding='same', kernel_initializer='he_normal', kernel_regularizer=regularizers.l2(0.01))(x)\n",
    "x = Conv2D(256, (3, 3), activation='relu', padding='same', kernel_initializer='he_normal', kernel_regularizer=regularizers.l2(0.01))(x)\n",
    "x = MaxPooling2D((2,2))(x)\n",
    " \n",
    "x = Conv2D(512, (3, 3), activation='relu', padding='same', kernel_initializer='he_normal', kernel_regularizer=regularizers.l2(0.01))(x)\n",
    "x = Conv2D(512, (3, 3), activation='relu', padding='same', kernel_initializer='he_normal', kernel_regularizer=regularizers.l2(0.01))(x)\n",
    "x = Conv2D(512, (3, 3), activation='relu', padding='same', kernel_initializer='he_normal', kernel_regularizer=regularizers.l2(0.01))(x)\n",
    "x = MaxPooling2D((2,2))(x)\n",
    " \n",
    "x = Conv2D(512, (3, 3), activation='relu', padding='same', kernel_initializer='he_normal', kernel_regularizer=regularizers.l2(0.01))(x)\n",
    "x = Conv2D(512, (3, 3), activation='relu', padding='same', kernel_initializer='he_normal', kernel_regularizer=regularizers.l2(0.01))(x)\n",
    "x = Conv2D(512, (3, 3), activation='relu', padding='same', kernel_initializer='he_normal', kernel_regularizer=regularizers.l2(0.01))(x)\n",
    "x = MaxPooling2D((2,2))(x)\n",
    " \n",
    "x = Flatten()(x)\n",
    "x = Dense(4096, kernel_initializer='he_normal')(x)\n",
    "x = Dense(1024, kernel_initializer='he_normal')(x)\n",
    "x = Dense(100, kernel_initializer='he_normal')(x)\n",
    "\n",
    "output_tensor = layers.Dense(1, activation='sigmoid')(x)\n",
    " \n",
    "vgg16 = Model(input_tensor, output_tensor)\n",
    "vgg16.summary()\n"
   ]
  },
  {
   "cell_type": "markdown",
   "metadata": {},
   "source": [
    "## 2-3. 모델 레이어 쌓기: VGG-19"
   ]
  },
  {
   "cell_type": "code",
   "execution_count": 16,
   "metadata": {},
   "outputs": [
    {
     "name": "stdout",
     "output_type": "stream",
     "text": [
      "Model: \"functional_17\"\n",
      "_________________________________________________________________\n",
      "Layer (type)                 Output Shape              Param #   \n",
      "=================================================================\n",
      "input (InputLayer)           [(None, 288, 432, 3)]     0         \n",
      "_________________________________________________________________\n",
      "conv2d_99 (Conv2D)           (None, 288, 432, 64)      1792      \n",
      "_________________________________________________________________\n",
      "conv2d_100 (Conv2D)          (None, 288, 432, 64)      36928     \n",
      "_________________________________________________________________\n",
      "max_pooling2d_40 (MaxPooling (None, 144, 216, 64)      0         \n",
      "_________________________________________________________________\n",
      "conv2d_101 (Conv2D)          (None, 144, 216, 128)     73856     \n",
      "_________________________________________________________________\n",
      "conv2d_102 (Conv2D)          (None, 144, 216, 128)     147584    \n",
      "_________________________________________________________________\n",
      "max_pooling2d_41 (MaxPooling (None, 72, 108, 128)      0         \n",
      "_________________________________________________________________\n",
      "conv2d_103 (Conv2D)          (None, 72, 108, 256)      295168    \n",
      "_________________________________________________________________\n",
      "conv2d_104 (Conv2D)          (None, 72, 108, 256)      590080    \n",
      "_________________________________________________________________\n",
      "conv2d_105 (Conv2D)          (None, 72, 108, 256)      590080    \n",
      "_________________________________________________________________\n",
      "conv2d_106 (Conv2D)          (None, 72, 108, 256)      590080    \n",
      "_________________________________________________________________\n",
      "max_pooling2d_42 (MaxPooling (None, 36, 54, 256)       0         \n",
      "_________________________________________________________________\n",
      "conv2d_107 (Conv2D)          (None, 36, 54, 512)       1180160   \n",
      "_________________________________________________________________\n",
      "conv2d_108 (Conv2D)          (None, 36, 54, 512)       2359808   \n",
      "_________________________________________________________________\n",
      "conv2d_109 (Conv2D)          (None, 36, 54, 512)       2359808   \n",
      "_________________________________________________________________\n",
      "conv2d_110 (Conv2D)          (None, 36, 54, 512)       2359808   \n",
      "_________________________________________________________________\n",
      "max_pooling2d_43 (MaxPooling (None, 18, 27, 512)       0         \n",
      "_________________________________________________________________\n",
      "conv2d_111 (Conv2D)          (None, 18, 27, 512)       2359808   \n",
      "_________________________________________________________________\n",
      "conv2d_112 (Conv2D)          (None, 18, 27, 512)       2359808   \n",
      "_________________________________________________________________\n",
      "conv2d_113 (Conv2D)          (None, 18, 27, 512)       2359808   \n",
      "_________________________________________________________________\n",
      "conv2d_114 (Conv2D)          (None, 18, 27, 512)       2359808   \n",
      "_________________________________________________________________\n",
      "max_pooling2d_44 (MaxPooling (None, 9, 13, 512)        0         \n",
      "_________________________________________________________________\n",
      "flatten_8 (Flatten)          (None, 59904)             0         \n",
      "_________________________________________________________________\n",
      "dense_32 (Dense)             (None, 4096)              245370880 \n",
      "_________________________________________________________________\n",
      "dense_33 (Dense)             (None, 1024)              4195328   \n",
      "_________________________________________________________________\n",
      "dense_34 (Dense)             (None, 100)               102500    \n",
      "_________________________________________________________________\n",
      "dense_35 (Dense)             (None, 1)                 101       \n",
      "=================================================================\n",
      "Total params: 269,693,193\n",
      "Trainable params: 269,693,193\n",
      "Non-trainable params: 0\n",
      "_________________________________________________________________\n"
     ]
    }
   ],
   "source": [
    "input_tensor = Input(shape=(288,432,3), dtype='float32', name='input')\n",
    "# input_tensor = Input(shape=(244,244,3), dtype='float32', name='input')\n",
    " \n",
    "x = Conv2D(64, (3, 3), activation='relu', padding='same', kernel_initializer='he_normal', kernel_regularizer=regularizers.l2(0.01))(input_tensor)\n",
    "x = Conv2D(64, (3, 3), activation='relu', padding='same', kernel_initializer='he_normal', kernel_regularizer=regularizers.l2(0.01))(x)\n",
    "x = MaxPooling2D((2,2))(x)\n",
    " \n",
    "x = Conv2D(128, (3, 3), activation='relu', padding='same', kernel_initializer='he_normal', kernel_regularizer=regularizers.l2(0.01))(x)\n",
    "x = Conv2D(128, (3, 3), activation='relu', padding='same', kernel_initializer='he_normal', kernel_regularizer=regularizers.l2(0.01))(x)\n",
    "x = MaxPooling2D((2,2))(x)\n",
    " \n",
    "x = Conv2D(256, (3, 3), activation='relu', padding='same', kernel_initializer='he_normal', kernel_regularizer=regularizers.l2(0.01))(x)\n",
    "x = Conv2D(256, (3, 3), activation='relu', padding='same', kernel_initializer='he_normal', kernel_regularizer=regularizers.l2(0.01))(x)\n",
    "x = Conv2D(256, (3, 3), activation='relu', padding='same', kernel_initializer='he_normal', kernel_regularizer=regularizers.l2(0.01))(x)\n",
    "x = Conv2D(256, (3, 3), activation='relu', padding='same', kernel_initializer='he_normal', kernel_regularizer=regularizers.l2(0.01))(x)\n",
    "x = MaxPooling2D((2,2))(x)\n",
    " \n",
    "x = Conv2D(512, (3, 3), activation='relu', padding='same', kernel_initializer='he_normal', kernel_regularizer=regularizers.l2(0.01))(x)\n",
    "x = Conv2D(512, (3, 3), activation='relu', padding='same', kernel_initializer='he_normal', kernel_regularizer=regularizers.l2(0.01))(x)\n",
    "x = Conv2D(512, (3, 3), activation='relu', padding='same', kernel_initializer='he_normal', kernel_regularizer=regularizers.l2(0.01))(x)\n",
    "x = Conv2D(512, (3, 3), activation='relu', padding='same', kernel_initializer='he_normal', kernel_regularizer=regularizers.l2(0.01))(x)\n",
    "x = MaxPooling2D((2,2))(x)\n",
    " \n",
    "x = Conv2D(512, (3, 3), activation='relu', padding='same', kernel_initializer='he_normal', kernel_regularizer=regularizers.l2(0.01))(x)\n",
    "x = Conv2D(512, (3, 3), activation='relu', padding='same', kernel_initializer='he_normal', kernel_regularizer=regularizers.l2(0.01))(x)\n",
    "x = Conv2D(512, (3, 3), activation='relu', padding='same', kernel_initializer='he_normal', kernel_regularizer=regularizers.l2(0.01))(x)\n",
    "x = Conv2D(512, (3, 3), activation='relu', padding='same', kernel_initializer='he_normal', kernel_regularizer=regularizers.l2(0.01))(x)\n",
    "x = MaxPooling2D((2,2))(x)\n",
    " \n",
    "x = Flatten()(x)\n",
    "x = Dense(4096, kernel_initializer='he_normal')(x)\n",
    "x = Dense(1024, kernel_initializer='he_normal')(x)\n",
    "x = Dense(100, kernel_initializer='he_normal')(x)\n",
    "\n",
    "output_tensor = layers.Dense(1, activation='sigmoid')(x)\n",
    " \n",
    "vgg19 = Model(input_tensor, output_tensor)\n",
    "vgg19.summary()\n"
   ]
  },
  {
   "cell_type": "markdown",
   "metadata": {},
   "source": [
    "## 3. 모델 컴파일, 학습시키기"
   ]
  },
  {
   "cell_type": "code",
   "execution_count": null,
   "metadata": {
    "scrolled": false
   },
   "outputs": [
    {
     "name": "stdout",
     "output_type": "stream",
     "text": [
      "Found 9259 images belonging to 2 classes.\n",
      "Found 0 images belonging to 2 classes.\n",
      "steps_per_epoch:  1158\n",
      "validation_steps:  0\n",
      "   7/1158 [..............................] - ETA: 9:39:14 - loss: 75.4743 - acc: 0.5357"
     ]
    }
   ],
   "source": [
    "BATCHSIZE = 8\n",
    "EPOCHS = 1\n",
    "\n",
    "\n",
    "# proj_folder=\"C:/Users/PRLAB/final_project_hny\"\n",
    "proj_folder = \"C:/Users/Dell/Desktop/Trauma-Detector\"\n",
    "train_db='dataset/train'\n",
    "val_db='dataset/val'\n",
    "test_db='dataset/test'\n",
    "train_dir = os.path.join(proj_folder, train_db)\n",
    "val_dir = os.path.join(proj_folder, val_db)\n",
    "test_dir = os.path.join(proj_folder, test_db)\n",
    "\n",
    "\n",
    "# data generator 생성\n",
    "train_datagen = ImageDataGenerator(rescale=1./255,\n",
    "                                  horizontal_flip=True)  # data augmentation\n",
    "train_generator = train_datagen.flow_from_directory(train_dir,\n",
    "                                                    target_size=(288,432),\n",
    "#                                                     target_size=(244, 244),\n",
    "                                                    batch_size=BATCHSIZE,\n",
    "                                                    class_mode='binary',\n",
    "                                                    interpolation='bilinear',\n",
    "                                                    shuffle=True,)\n",
    "\n",
    "valid_datagen = ImageDataGenerator(rescale=1./255)\n",
    "valid_generator = valid_datagen.flow_from_directory(val_dir,\n",
    "                                                    target_size=(288, 432),\n",
    "#                                                     target_size=(244, 244),\n",
    "                                                    batch_size=BATCHSIZE,\n",
    "                                                    class_mode='binary',\n",
    "                                                    interpolation='bilinear',\n",
    "                                                    shuffle=False,)\n",
    "\n",
    "early_stopping = EarlyStopping(patience=10, monitor='val_loss')\n",
    "\n",
    "# 체크포인트 콜백 만들기\n",
    "# checkpoint_path='C:/Users/PRLAB/final_project_hny/final_ver_weights/vgg19_rmsprop/checkpoint-batch-8-epoch-{epoch:02d}-val_loss-{val_loss:.4f}.hdf5'\n",
    "checkpoint_path='./weights/checkpoint-batch-8-epoch-{epoch:02d}-val_loss-{val_loss:.4f}.hdf5'\n",
    "# checkpoint_path='./final_ver_weights/vgg12/checkpoint-batch-16-epoch-{epoch:02d}-loss-{loss:.4f}.hdf5'\n",
    "checkpoint=ModelCheckpoint(filepath=checkpoint_path, monitor='val_loss', verbose=1, save_weights_only=True)\n",
    "\n",
    "\n",
    "vgg13.compile(loss='binary_crossentropy', optimizer=optimizers.RMSprop(lr=2e-5), metrics=['acc'])  \n",
    "\n",
    "print(\"steps_per_epoch: \", len(train_generator))\n",
    "print(\"validation_steps: \", len(valid_generator))\n",
    "history = vgg13.fit_generator(train_generator,\n",
    "                                epochs=EPOCHS,\n",
    "                                steps_per_epoch=len(train_generator),\n",
    "                                validation_data=valid_generator,\n",
    "                                validation_steps=len(valid_generator),\n",
    "                                verbose=1,\n",
    "                                callbacks=[early_stopping, checkpoint])    \n",
    "\n",
    "\n",
    "# 그래프 그리기\n",
    "acc = history.history['acc']\n",
    "val_acc = history.history['val_acc']\n",
    "loss = history.history['loss']\n",
    "val_loss = history.history['val_loss']\n",
    " \n",
    "epochs = range(1, len(acc) + 1)\n",
    " \n",
    "plt.plot(epochs, acc, 'bo', label='Training acc')\n",
    "plt.plot(epochs, val_acc, 'b', label='Validation acc')\n",
    "plt.title('Accuracy')\n",
    "plt.legend()\n",
    "plt.figure()\n",
    " \n",
    "plt.plot(epochs, loss, 'ro', label='Training loss')\n",
    "plt.plot(epochs, val_loss, 'r', label='Validation loss')\n",
    "plt.title('Loss')\n",
    "plt.legend()\n",
    " \n",
    "plt.show()"
   ]
  },
  {
   "cell_type": "markdown",
   "metadata": {},
   "source": [
    "## 4. 모델 성능평가"
   ]
  },
  {
   "cell_type": "markdown",
   "metadata": {},
   "source": [
    "### Dataset A"
   ]
  },
  {
   "cell_type": "markdown",
   "metadata": {},
   "source": [
    "- evaluate A dataset"
   ]
  },
  {
   "cell_type": "code",
   "execution_count": 3,
   "metadata": {},
   "outputs": [
    {
     "name": "stdout",
     "output_type": "stream",
     "text": [
      "Found 2317 images belonging to 2 classes.\n",
      "-- Evaluate --\n",
      "290/290 [==============================] - 22s 77ms/step - loss: 0.4347 - acc: 0.9642\n",
      "Restored model, accuracy: 96.42%\n"
     ]
    }
   ],
   "source": [
    "BATCHSIZE = 8\n",
    "EPOCHS = 300\n",
    "\n",
    "checkpoint_path='./final_ver_weights/vgg16_rmsprop/checkpoint-batch-8-epoch-125-val_loss-0.3974.hdf5'\n",
    "test_dir='./dataset/test'\n",
    "test_datagen = ImageDataGenerator(rescale=1./255.0)\n",
    "test_generator = test_datagen.flow_from_directory(\n",
    "    test_dir,\n",
    "    target_size=(288, 432),\n",
    "    batch_size=BATCHSIZE,\n",
    "    class_mode='binary',\n",
    "    interpolation='bilinear',\n",
    "    shuffle=False)\n",
    "\n",
    "myvgg16.compile(loss='binary_crossentropy', optimizer=optimizers.RMSprop(lr=2e-5), metrics=['acc']) \n",
    "\n",
    "print(\"-- Evaluate --\")\n",
    "myvgg16.load_weights(checkpoint_path)# Re-evaluate the model\n",
    "# loss, acc = myvgg16.evaluate(test_generator, steps=5)\n",
    "loss, acc = myvgg16.evaluate(test_generator, steps= len(test_generator)) \n",
    "print(\"Restored model, accuracy: {:5.2f}%\".format(100*acc))\n"
   ]
  },
  {
   "cell_type": "markdown",
   "metadata": {},
   "source": [
    "- predict A dataset"
   ]
  },
  {
   "cell_type": "code",
   "execution_count": 4,
   "metadata": {},
   "outputs": [
    {
     "name": "stdout",
     "output_type": "stream",
     "text": [
      "Found 2317 images belonging to 2 classes.\n",
      "pred_fake(0)  pred_real(1)\n",
      "actural_fake(0)           1072            36\n",
      "actual_real(1)             42          1167\n",
      "\n"
     ]
    },
    {
     "ename": "NameError",
     "evalue": "name 'plt' is not defined",
     "output_type": "error",
     "traceback": [
      "\u001b[1;31m---------------------------------------------------------------------------\u001b[0m",
      "\u001b[1;31mNameError\u001b[0m                                 Traceback (most recent call last)",
      "\u001b[1;32m<ipython-input-4-6e4bebf0186b>\u001b[0m in \u001b[0;36m<module>\u001b[1;34m\u001b[0m\n\u001b[0;32m     42\u001b[0m \u001b[0mAccuracy\u001b[0m \u001b[1;33m=\u001b[0m \u001b[1;33m(\u001b[0m\u001b[1;33m(\u001b[0m\u001b[0mtn\u001b[0m\u001b[1;33m+\u001b[0m\u001b[0mtp\u001b[0m\u001b[1;33m)\u001b[0m \u001b[1;33m/\u001b[0m \u001b[1;33m(\u001b[0m\u001b[0mtn\u001b[0m\u001b[1;33m+\u001b[0m\u001b[0mfp\u001b[0m\u001b[1;33m+\u001b[0m\u001b[0mfn\u001b[0m\u001b[1;33m+\u001b[0m\u001b[0mtp\u001b[0m\u001b[1;33m)\u001b[0m\u001b[1;33m)\u001b[0m \u001b[1;33m*\u001b[0m \u001b[1;36m100.0\u001b[0m\u001b[1;33m\u001b[0m\u001b[1;33m\u001b[0m\u001b[0m\n\u001b[0;32m     43\u001b[0m \u001b[0mroc_auc\u001b[0m \u001b[1;33m=\u001b[0m \u001b[0mroc_auc_score\u001b[0m\u001b[1;33m(\u001b[0m\u001b[0my_true\u001b[0m\u001b[1;33m,\u001b[0m \u001b[0my_score\u001b[0m\u001b[1;33m)\u001b[0m\u001b[1;33m\u001b[0m\u001b[1;33m\u001b[0m\u001b[0m\n\u001b[1;32m---> 44\u001b[1;33m \u001b[0mplt\u001b[0m\u001b[1;33m.\u001b[0m\u001b[0mfigure\u001b[0m\u001b[1;33m(\u001b[0m\u001b[1;33m)\u001b[0m\u001b[1;33m\u001b[0m\u001b[1;33m\u001b[0m\u001b[0m\n\u001b[0m\u001b[0;32m     45\u001b[0m \u001b[0mlw\u001b[0m \u001b[1;33m=\u001b[0m \u001b[1;36m2\u001b[0m\u001b[1;33m\u001b[0m\u001b[1;33m\u001b[0m\u001b[0m\n\u001b[0;32m     46\u001b[0m \u001b[0mplt\u001b[0m\u001b[1;33m.\u001b[0m\u001b[0mplot\u001b[0m\u001b[1;33m(\u001b[0m\u001b[0mfpr\u001b[0m\u001b[1;33m,\u001b[0m \u001b[0mtpr\u001b[0m\u001b[1;33m,\u001b[0m \u001b[1;34m'r--'\u001b[0m\u001b[1;33m,\u001b[0m \u001b[0mlabel\u001b[0m\u001b[1;33m=\u001b[0m\u001b[1;34m'ROC_curve (acc_1st = %0.2f%%)'\u001b[0m \u001b[1;33m%\u001b[0m \u001b[0mAccuracy\u001b[0m\u001b[1;33m)\u001b[0m\u001b[1;33m\u001b[0m\u001b[1;33m\u001b[0m\u001b[0m\n",
      "\u001b[1;31mNameError\u001b[0m: name 'plt' is not defined"
     ]
    }
   ],
   "source": [
    "# model = keras.models.load_model('C:\\\\Users\\\\PRLAB\\\\nahye_finalproject\\\\result_cuda_2\\\\dataset2-102-0.1826.hdf5')\n",
    "# test_datagen = ImageDataGenerator(rescale=1./255.0)\n",
    "# test_generator = test_datagen.flow_from_directory(\n",
    "#         'C:\\\\Users\\\\PRLAB\\\\nahye_finalproject\\\\dataset\\\\test',\n",
    "#         target_size=(288, 432),    \n",
    "#         batch_size=16,\n",
    "#         class_mode='binary',\n",
    "#         interpolation='bilinear',\n",
    "#         shuffle=False)\n",
    "\n",
    "checkpoint_path='./final_ver_weights/vgg16_rmsprop/checkpoint-batch-8-epoch-125-val_loss-0.3974.hdf5'\n",
    "test_dir='./dataset/test'\n",
    "\n",
    "test_datagen = ImageDataGenerator(rescale=1./255.0)\n",
    "test_generator = test_datagen.flow_from_directory(\n",
    "    test_dir,\n",
    "    target_size=(288, 432),\n",
    "    batch_size=BATCHSIZE,\n",
    "    class_mode='binary',\n",
    "    interpolation='bilinear',\n",
    "    shuffle=False)\n",
    "myvgg16.compile(loss='binary_crossentropy', optimizer=optimizers.RMSprop(lr=2e-5), metrics=['acc']) \n",
    "\n",
    "\n",
    "\n",
    "''' evaluating HTER '''\n",
    "y_true = test_generator.classes\n",
    "y_score = myvgg16.predict_generator(test_generator, steps = len(test_generator)).ravel()\n",
    "# Calculate EER threshold\n",
    "fpr, tpr, threshold = roc_curve(y_true, y_score)\n",
    "fnr = 1 - tpr\n",
    "eer_threshold = threshold[np.nanargmin(np.absolute((fnr-fpr)))]\n",
    "# HTER\n",
    "y_pred = y_score > eer_threshold\n",
    "tn, fp, fn, tp = confusion_matrix(y_true, y_pred).ravel()\n",
    "labels = test_generator.class_indices\n",
    "print('pred_fake({})  pred_real({})\\nactural_fake({})   {:12d}  {:12d}\\nactual_real({})   {:12d}  {:12d}\\n'.format(labels['0'], labels['1'], labels['0'], tn, fp, labels['1'], fn, tp))\n",
    "hter = (fp/(tn+fp) + fn/(fn+tp)) * 0.5\n",
    "# ROC curve\n",
    "Accuracy = ((tn+tp) / (tn+fp+fn+tp)) * 100.0\n",
    "roc_auc = roc_auc_score(y_true, y_score)\n",
    "plt.figure()\n",
    "lw = 2\n",
    "plt.plot(fpr, tpr, 'r--', label='ROC_curve (acc_1st = %0.2f%%)' % Accuracy)\n",
    "# plt.plot([0, 1], [0, 1], color = 'orange', lw=lw, linestyle='--')\n",
    "plt.xlim([-0.01, 0.21])\n",
    "plt.ylim([0.71, 1.01])\n",
    "plt.xlabel('False Positive Rate')\n",
    "plt.ylabel('True Positive Rate')\n",
    "plt.legend(loc = \"lower right\")\n",
    "plt.savefig('protocol_4_001.png')\n",
    "plt.figure()\n",
    "# print('EER: {:.4f}\\tHTER: {:.4f}'.format(val_eer, hter))\n",
    "# print('>> finished')"
   ]
  },
  {
   "cell_type": "markdown",
   "metadata": {},
   "source": [
    "### Dataset B"
   ]
  },
  {
   "cell_type": "markdown",
   "metadata": {},
   "source": [
    "- evaluate B dataset"
   ]
  },
  {
   "cell_type": "code",
   "execution_count": 6,
   "metadata": {},
   "outputs": [
    {
     "name": "stdout",
     "output_type": "stream",
     "text": [
      "Found 3149 images belonging to 2 classes.\n",
      "-- Evaluate --\n",
      "394/394 [==============================] - 32s 81ms/step - loss: 2.3261 - acc: 0.5999\n",
      "Restored model, accuracy: 59.99%\n"
     ]
    }
   ],
   "source": [
    "BATCHSIZE = 8\n",
    "EPOCHS = 300\n",
    "checkpoint_path='C:/Users/PRLAB/final_project_hny/final_ver_weights/vgg16_rmsprop/checkpoint-batch-8-epoch-125-val_loss-0.3974.hdf5'\n",
    "\n",
    "# test_dir2='C:/Users/PRLAB/final_project_hny/act_split_final/test'\n",
    "test_dir2='C:/Users/PRLAB/nahye_finalproject/stft_spec_2'\n",
    "\n",
    "test_datagen = ImageDataGenerator(rescale=1./255.0)\n",
    "test_generator = test_datagen.flow_from_directory(\n",
    "    test_dir2,\n",
    "    target_size=(288, 432),\n",
    "    batch_size=BATCHSIZE,\n",
    "    class_mode='binary',\n",
    "    interpolation='bilinear',\n",
    "    shuffle=False)\n",
    "\n",
    "myvgg16.compile(loss='binary_crossentropy', optimizer=optimizers.RMSprop(lr=2e-5), metrics=['acc']) \n",
    "\n",
    "print(\"-- Evaluate --\")\n",
    "myvgg16.load_weights(checkpoint_path)# Re-evaluate the model\n",
    "\n",
    "# loss,acc = myvgg16.evaluate(test_generator, steps=5)\n",
    "loss, acc = myvgg16.evaluate(test_generator, steps= len(test_generator))\n",
    "print(\"Restored model, accuracy: {:5.2f}%\".format(100*acc))"
   ]
  },
  {
   "cell_type": "markdown",
   "metadata": {},
   "source": [
    "- predict B dataset"
   ]
  },
  {
   "cell_type": "code",
   "execution_count": 8,
   "metadata": {},
   "outputs": [
    {
     "name": "stdout",
     "output_type": "stream",
     "text": [
      "Found 3149 images belonging to 2 classes.\n",
      "pred_fake(0)  pred_real(1)\n",
      "actural_fake(0)           1402           965\n",
      "actual_real(1)            319           463\n",
      "\n"
     ]
    },
    {
     "ename": "NameError",
     "evalue": "name 'plt' is not defined",
     "output_type": "error",
     "traceback": [
      "\u001b[1;31m---------------------------------------------------------------------------\u001b[0m",
      "\u001b[1;31mNameError\u001b[0m                                 Traceback (most recent call last)",
      "\u001b[1;32m<ipython-input-8-4b152d6d2a85>\u001b[0m in \u001b[0;36m<module>\u001b[1;34m\u001b[0m\n\u001b[0;32m     40\u001b[0m \u001b[0mAccuracy\u001b[0m \u001b[1;33m=\u001b[0m \u001b[1;33m(\u001b[0m\u001b[1;33m(\u001b[0m\u001b[0mtn\u001b[0m\u001b[1;33m+\u001b[0m\u001b[0mtp\u001b[0m\u001b[1;33m)\u001b[0m \u001b[1;33m/\u001b[0m \u001b[1;33m(\u001b[0m\u001b[0mtn\u001b[0m\u001b[1;33m+\u001b[0m\u001b[0mfp\u001b[0m\u001b[1;33m+\u001b[0m\u001b[0mfn\u001b[0m\u001b[1;33m+\u001b[0m\u001b[0mtp\u001b[0m\u001b[1;33m)\u001b[0m\u001b[1;33m)\u001b[0m \u001b[1;33m*\u001b[0m \u001b[1;36m100.0\u001b[0m\u001b[1;33m\u001b[0m\u001b[1;33m\u001b[0m\u001b[0m\n\u001b[0;32m     41\u001b[0m \u001b[0mroc_auc\u001b[0m \u001b[1;33m=\u001b[0m \u001b[0mroc_auc_score\u001b[0m\u001b[1;33m(\u001b[0m\u001b[0my_true\u001b[0m\u001b[1;33m,\u001b[0m \u001b[0my_score\u001b[0m\u001b[1;33m)\u001b[0m\u001b[1;33m\u001b[0m\u001b[1;33m\u001b[0m\u001b[0m\n\u001b[1;32m---> 42\u001b[1;33m \u001b[0mplt\u001b[0m\u001b[1;33m.\u001b[0m\u001b[0mfigure\u001b[0m\u001b[1;33m(\u001b[0m\u001b[1;33m)\u001b[0m\u001b[1;33m\u001b[0m\u001b[1;33m\u001b[0m\u001b[0m\n\u001b[0m\u001b[0;32m     43\u001b[0m \u001b[0mlw\u001b[0m \u001b[1;33m=\u001b[0m \u001b[1;36m2\u001b[0m\u001b[1;33m\u001b[0m\u001b[1;33m\u001b[0m\u001b[0m\n\u001b[0;32m     44\u001b[0m \u001b[0mplt\u001b[0m\u001b[1;33m.\u001b[0m\u001b[0mplot\u001b[0m\u001b[1;33m(\u001b[0m\u001b[0mfpr\u001b[0m\u001b[1;33m,\u001b[0m \u001b[0mtpr\u001b[0m\u001b[1;33m,\u001b[0m \u001b[1;34m'r--'\u001b[0m\u001b[1;33m,\u001b[0m \u001b[0mlabel\u001b[0m\u001b[1;33m=\u001b[0m\u001b[1;34m'ROC_curve (acc_1st = %0.2f%%)'\u001b[0m \u001b[1;33m%\u001b[0m \u001b[0mAccuracy\u001b[0m\u001b[1;33m)\u001b[0m\u001b[1;33m\u001b[0m\u001b[1;33m\u001b[0m\u001b[0m\n",
      "\u001b[1;31mNameError\u001b[0m: name 'plt' is not defined"
     ]
    }
   ],
   "source": [
    "# model = keras.models.load_model('C:\\\\Users\\\\PRLAB\\\\nahye_finalproject\\\\result_cuda_2\\\\dataset2-102-0.1826.hdf5')\n",
    "# test_datagen = ImageDataGenerator(rescale=1./255.0)\n",
    "# test_generator = test_datagen.flow_from_directory(\n",
    "#         'C:\\\\Users\\\\PRLAB\\\\nahye_finalproject\\\\dataset\\\\test',\n",
    "#         target_size=(288, 432),    \n",
    "#         batch_size=16,\n",
    "#         class_mode='binary',\n",
    "#         interpolation='bilinear',\n",
    "#         shuffle=False)\n",
    "\n",
    "checkpoint_path='./final_ver_weights/vgg16_rmsprop/checkpoint-batch-8-epoch-125-val_loss-0.3974.hdf5'\n",
    "test_dir='C:/Users/PRLAB/nahye_finalproject/stft_spec_2'\n",
    "\n",
    "test_datagen = ImageDataGenerator(rescale=1./255.0)\n",
    "test_generator = test_datagen.flow_from_directory(\n",
    "    test_dir,\n",
    "    target_size=(288, 432),\n",
    "    batch_size=BATCHSIZE,\n",
    "    class_mode='binary',\n",
    "    interpolation='bilinear',\n",
    "    shuffle=False)\n",
    "myvgg16.compile(loss='binary_crossentropy', optimizer=optimizers.RMSprop(lr=2e-5), metrics=['acc']) \n",
    "\n",
    "\n",
    "\n",
    "''' evaluating HTER '''\n",
    "y_true = test_generator.classes\n",
    "y_score = myvgg16.predict_generator(test_generator, steps = len(test_generator)).ravel()\n",
    "# Calculate EER threshold\n",
    "fpr, tpr, threshold = roc_curve(y_true, y_score)\n",
    "fnr = 1 - tpr\n",
    "eer_threshold = threshold[np.nanargmin(np.absolute((fnr-fpr)))]\n",
    "# HTER\n",
    "y_pred = y_score > eer_threshold\n",
    "tn, fp, fn, tp = confusion_matrix(y_true, y_pred).ravel()\n",
    "labels = test_generator.class_indices\n",
    "print('pred_fake({})  pred_real({})\\nactural_fake({})   {:12d}  {:12d}\\nactual_real({})   {:12d}  {:12d}\\n'.format(labels['0'], labels['1'], labels['0'], tn, fp, labels['1'], fn, tp))\n",
    "hter = (fp/(tn+fp) + fn/(fn+tp)) * 0.5\n",
    "# ROC curve\n",
    "Accuracy = ((tn+tp) / (tn+fp+fn+tp)) * 100.0\n",
    "roc_auc = roc_auc_score(y_true, y_score)\n",
    "plt.figure()\n",
    "lw = 2\n",
    "plt.plot(fpr, tpr, 'r--', label='ROC_curve (acc_1st = %0.2f%%)' % Accuracy)\n",
    "# plt.plot([0, 1], [0, 1], color = 'orange', lw=lw, linestyle='--')\n",
    "plt.xlim([-0.01, 0.21])\n",
    "plt.ylim([0.71, 1.01])\n",
    "plt.xlabel('False Positive Rate')\n",
    "plt.ylabel('True Positive Rate')\n",
    "plt.legend(loc = \"lower right\")\n",
    "plt.savefig('protocol_4_001.png')\n",
    "plt.figure()\n",
    "# print('EER: {:.4f}\\tHTER: {:.4f}'.format(val_eer, hter))\n",
    "# print('>> finished')"
   ]
  }
 ],
 "metadata": {
  "kernelspec": {
   "display_name": "nlp_tf",
   "language": "python",
   "name": "nlp_tf"
  },
  "language_info": {
   "codemirror_mode": {
    "name": "ipython",
    "version": 3
   },
   "file_extension": ".py",
   "mimetype": "text/x-python",
   "name": "python",
   "nbconvert_exporter": "python",
   "pygments_lexer": "ipython3",
   "version": "3.8.5"
  }
 },
 "nbformat": 4,
 "nbformat_minor": 4
}
